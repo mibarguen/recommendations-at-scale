{
 "cells": [
  {
   "cell_type": "markdown",
   "id": "26386ee2",
   "metadata": {
    "colab_type": "text",
    "id": "view-in-github"
   },
   "source": [
    "<a href=\"https://colab.research.google.com/github/mibarguen/recommendations-at-scale/blob/main/week4_evaluation.ipynb\" target=\"_parent\"><img src=\"https://colab.research.google.com/assets/colab-badge.svg\" alt=\"Open In Colab\"/></a>"
   ]
  },
  {
   "cell_type": "code",
   "execution_count": 193,
   "id": "837dcaa9-cc0b-4345-bbee-3a09683decf9",
   "metadata": {
    "id": "837dcaa9-cc0b-4345-bbee-3a09683decf9"
   },
   "outputs": [],
   "source": [
    "import numpy as np\n",
    "import pandas as pd\n",
    "from sklearn.metrics import dcg_score, ndcg_score\n",
    "from collections import OrderedDict\n",
    "\n",
    "\n",
    "import seaborn as sns\n",
    "import matplotlib.pyplot as plt\n",
    "\n",
    "from scipy.spatial.distance import pdist\n",
    "\n",
    "pd.set_option('display.max_column', None)\n",
    "\n",
    "import warnings\n",
    "warnings.filterwarnings('ignore')"
   ]
  },
  {
   "cell_type": "markdown",
   "id": "41f1f7cb-9441-4fe1-962e-9e4cb3e3c192",
   "metadata": {
    "id": "41f1f7cb-9441-4fe1-962e-9e4cb3e3c192"
   },
   "source": [
    "# **Welcome to week 4 project!**\n",
    "\n",
    "Welcome to the last week of the course -- so excited to see that you've made it to the end! 👏 \n",
    "\n",
    "We’ve already discussed the importance of measuring model performance. As Lord Kelvin said, “To measure is to know – If you cannot measure it, you cannot improve it.” And he was right – metrics are the only way we can actually evaluate our model’s performance!\n",
    "\n",
    "In this week's project, we will touch upon two key aspects related to evaluation:\n",
    "1. Behavioral metrics\n",
    "2. Off-policy evaluation\n",
    "\n",
    "For behavioral metrics, we will work with Spotify music sessions dataset, and implement a few behavioral metrics and understand their relationships with traditional metrics.\n",
    "\n",
    "For off-policy evaluation, we will simulate a dataset where we have logged action policies, and see how IPS is implemented.\n"
   ]
  },
  {
   "cell_type": "markdown",
   "id": "6b7e1f07-9f25-4fbf-8c9f-cd0a2524ac12",
   "metadata": {
    "id": "6b7e1f07-9f25-4fbf-8c9f-cd0a2524ac12"
   },
   "source": [
    "### Goals for this week's project:\n",
    "\n",
    "For this week's project assignment, we will complete the following tasks:\n",
    "1. Implement 3 behavioral metrics and present the correlation plot for them\n",
    "2. Implement another ranking logic (e.g. sort by track popularity, or sort by danceability and compare all metrics on productional ranking logic and this new ranking logic.\n",
    "3. Complete the implementation of two off-policy estimators: Capped IPS and Normalized Capped Importance Sampling (NCIS)\n"
   ]
  },
  {
   "cell_type": "markdown",
   "id": "d0e01328-6834-4b11-85c1-03867e1d4860",
   "metadata": {
    "id": "d0e01328-6834-4b11-85c1-03867e1d4860",
    "tags": []
   },
   "source": [
    "# Part A: Behavioral metrics\n",
    "\n",
    "Behavioral metrics include factors like what items a user interacts with and how, the amount of time they spend on the platform, and how they spend that time.\n",
    "\n",
    "To define and implement a few behavioral metrics, we will work with the Spotify music sessions dataset.\n",
    "Download the dataset from GDrive: https://drive.google.com/drive/folders/10LGZMgXRuz2qPr_QDbYdVVlKEcnQ25YL?usp=sharing\n",
    "(files: log_mini.cvs and tf_mini.csv)\n",
    "\n",
    "## Spotify music sessions dataset\n",
    "\n",
    "The public part of the dataset consists of roughly 130 million listening sessions with associated user interactions on the Spotify service. In total, users interacted with almost 4 million tracks during these sessions, and the dataset includes acoustic features and metadata for all of these tracks.\n",
    "\n",
    "Detailed description of the dataset can be found here:\n",
    "https://drive.google.com/file/d/1BELTuH4nBeyHna5EAGzJv-HWHKrbxPsf/view?usp=sharing\n",
    "\n"
   ]
  },
  {
   "cell_type": "code",
   "execution_count": 2,
   "id": "88eb3b58-062c-4c96-b3f0-2db4407ce1b3",
   "metadata": {
    "id": "88eb3b58-062c-4c96-b3f0-2db4407ce1b3"
   },
   "outputs": [],
   "source": [
    "log = pd.read_csv(\"../data/log_mini.csv\")\n",
    "tracks = pd.read_csv(\"../data/tf_mini.csv\")"
   ]
  },
  {
   "cell_type": "markdown",
   "id": "aba926f1-1f49-4b9d-b358-b780132f0070",
   "metadata": {
    "id": "aba926f1-1f49-4b9d-b358-b780132f0070"
   },
   "source": [
    "### Traditional metrics: ndcg@k\n",
    "\n",
    "We will use the log dataframe as the main dataframe for evaluation of metrics. The skip_1 flag can be used as a relevance signal -- if the user found the recommendation relevant, skip_1 = False. With this relevance signal, we can compute simple ndcg metrics -- one for each session and then averaged across all sessions. This will serve as a base metric for comparison.\n",
    "\n",
    "Note: the ranking logic here is assumed to be the production ranker, i.e. sorting by session_position gives the exact order of tracks the Spotify ranker presented to the user.\n",
    "\n",
    "Lets compute simple skip rate and ndcg metric for the production ranker:"
   ]
  },
  {
   "cell_type": "code",
   "execution_count": 6,
   "id": "394f3143-545a-4f4f-a5c6-01e717b60371",
   "metadata": {
    "id": "394f3143-545a-4f4f-a5c6-01e717b60371",
    "outputId": "6ea09188-e9ed-44a6-a230-37e22cbd7d48"
   },
   "outputs": [
    {
     "name": "stdout",
     "output_type": "stream",
     "text": [
      "average skip rate in the session:  0.40893999999999464\n"
     ]
    }
   ],
   "source": [
    "topk = 10\n",
    "\n",
    "skip_rate_session = log.groupby('session_id').apply(lambda x: x.nsmallest(topk,['session_position'])).reset_index(drop=True).groupby(\"session_id\").skip_1.mean().mean()\n",
    "print(\"average skip rate in the session: \",skip_rate_session)\n"
   ]
  },
  {
   "cell_type": "code",
   "execution_count": 7,
   "id": "c41ace73-6c5a-4bba-ac5e-06d1d270b70c",
   "metadata": {
    "id": "c41ace73-6c5a-4bba-ac5e-06d1d270b70c",
    "outputId": "4c621cc1-16e5-40dd-dca0-a4d4efee6291"
   },
   "outputs": [
    {
     "name": "stdout",
     "output_type": "stream",
     "text": [
      "NDCG@k, with k=  10  is:  0.8330266041453124\n"
     ]
    }
   ],
   "source": [
    "topk = 10\n",
    "\n",
    "def get_ndcg(df):\n",
    "    true_relevance = np.asarray(1-np.asarray(df['skip_1']*1.0))\n",
    "    ranker_scores = np.asarray(1/np.asarray(df['session_position'])) # approximate the ranker scores using the session position\n",
    "    return(ndcg_score([true_relevance], [ranker_scores]))\n",
    "\n",
    "\n",
    "ndcg_metric = log.groupby('session_id').apply(lambda x: x.nsmallest(topk,['session_position'])).reset_index(drop = True).groupby(\"session_id\").apply(get_ndcg).mean()\n",
    "print(\"NDCG@k, with k= \",\n",
    "      topk,\" is: \",ndcg_metric)\n",
    "\n"
   ]
  },
  {
   "cell_type": "code",
   "execution_count": 203,
   "id": "0bd3b0d6",
   "metadata": {},
   "outputs": [],
   "source": [
    "def get_ndcg_k(df, k):\n",
    "    return df.groupby('session_id').apply(lambda x: x.nsmallest(k,['session_position'])).reset_index(drop = True).groupby(\"session_id\").apply(get_ndcg).mean()\n",
    "    "
   ]
  },
  {
   "cell_type": "code",
   "execution_count": 204,
   "id": "7c7405c7",
   "metadata": {},
   "outputs": [
    {
     "data": {
      "text/plain": [
       "0.8330266041453124"
      ]
     },
     "execution_count": 204,
     "metadata": {},
     "output_type": "execute_result"
    }
   ],
   "source": [
    "get_ndcg_k(log, 10)"
   ]
  },
  {
   "cell_type": "code",
   "execution_count": 101,
   "id": "8acfda36",
   "metadata": {},
   "outputs": [
    {
     "name": "stdout",
     "output_type": "stream",
     "text": [
      "NDCG@k, with k=  10  is:  0.8235700606177426\n"
     ]
    }
   ],
   "source": [
    "ndcg_metric = get_ndcg_k.groupby(\"session_id\").apply(get_ndcg).mean()\n",
    "print(\"NDCG@k, with k= \",\n",
    "      topk,\" is: \",ndcg_metric)\n",
    "\n"
   ]
  },
  {
   "cell_type": "markdown",
   "id": "85f93877-750a-476d-b530-96659c5a8bd5",
   "metadata": {
    "id": "85f93877-750a-476d-b530-96659c5a8bd5"
   },
   "source": [
    "## Goals for this week:\n",
    "\n",
    "Implement a few behavioral metrics and compare their correlations. We will implement the following three metrics:\n",
    "1. *Time to first skip:* how long did it take for the user to get the first bad recommendation, i.e. a recommendation they skipped. Since we can't easily calculate time, we can use number of songs as a proxy and compute the metric as number of songs it took for the first skip.\n",
    "\n",
    "2. *Sustained dissatisfaction:* we assume that the user is dissatisfied in a sustained manner if they skip 3 songs consecutively.\n",
    "\n",
    "3. *Session coherence:* we define coherence as how similar the recommended musical tracks are. We can use the acoustic_vector of the music tracks to calculate the similarity."
   ]
  },
  {
   "cell_type": "markdown",
   "id": "9a468ee6",
   "metadata": {},
   "source": [
    "### Time to first skip"
   ]
  },
  {
   "cell_type": "code",
   "execution_count": 159,
   "id": "889e9f91",
   "metadata": {},
   "outputs": [],
   "source": [
    "def get_time_to_first_skip(df):\n",
    "    skipped_tracks = df['skip_1'] == True\n",
    "    df.loc[skipped_tracks, 'session_track_num'] = df.loc[skipped_tracks].sort_values(by='session_position').groupby('session_id')['track_id_clean'].cumcount()\n",
    "    df['first_skip'] = df['session_track_num'] == 0\n",
    "    \n",
    "    df_first_skip = df[df['first_skip'] == True]\n",
    "    \n",
    "    ### Users who never skipped\n",
    "    users_never_skipped = set(df['session_id'].unique()) - set(df_first_skip['session_id'])\n",
    "    \n",
    "    ### What was the last session-track-number that users who never skipped heard?\n",
    "    users_never_skipped_df = df[df['session_id'].isin(users_never_skipped)]\n",
    "    users_never_skipped_df = users_never_skipped_df.groupby('session_id')['session_position'].max().reset_index()\n",
    "    \n",
    "    \n",
    "    df_first_skip.rename({'session_position': 'last_track_num'}, axis=1, inplace=True)\n",
    "    df_first_skip.loc[:, 'observed_first_skip'] = True\n",
    "    \n",
    "    users_never_skipped_df.rename({'session_position': 'last_track_num'}, axis=1,inplace=True)\n",
    "    users_never_skipped_df['observed_first_skip'] = False\n",
    "    \n",
    "    cols = ['session_id', 'last_track_num', 'observed_first_skip']\n",
    "    \n",
    "    return pd.concat([df_first_skip[cols], users_never_skipped_df[cols]])\n",
    "    \n",
    "    "
   ]
  },
  {
   "cell_type": "code",
   "execution_count": 170,
   "id": "160ec702",
   "metadata": {},
   "outputs": [],
   "source": [
    "def get_time_to_first_skip_first_k(df, k):\n",
    "    sub_df = df\n",
    "    if k:\n",
    "        sub_df = df.groupby('session_id').apply(lambda x: x.nsmallest(k,['session_position'])).reset_index(drop = True)\n",
    "    time_first_skipped = get_time_to_first_skip(sub_df)\n",
    "    return time_first_skipped['last_track_num'].mean()\n",
    "    \n",
    "    "
   ]
  },
  {
   "cell_type": "code",
   "execution_count": 171,
   "id": "19de7955",
   "metadata": {},
   "outputs": [
    {
     "name": "stdout",
     "output_type": "stream",
     "text": [
      "Time to first skip: 4.635\n"
     ]
    }
   ],
   "source": [
    "time_to_first_skip = get_time_to_first_skip_first_k(log, None)\n",
    "\n",
    "print(f'Time to first skip: {round(time_to_first_skip, 3)}')"
   ]
  },
  {
   "cell_type": "code",
   "execution_count": 86,
   "id": "d86d6af6",
   "metadata": {},
   "outputs": [
    {
     "data": {
      "text/plain": [
       "<lifelines.KaplanMeierFitter:\"KM_estimate\", fitted with 10000 total observations, 577 right-censored observations>"
      ]
     },
     "execution_count": 86,
     "metadata": {},
     "output_type": "execute_result"
    }
   ],
   "source": [
    "from lifelines import KaplanMeierFitter\n",
    "\n",
    "kmf = KaplanMeierFitter()\n",
    "kmf.fit(df['last_track_num'], event_observed=df['observed_first_skip'])"
   ]
  },
  {
   "cell_type": "code",
   "execution_count": 173,
   "id": "878fe69d",
   "metadata": {},
   "outputs": [
    {
     "data": {
      "image/png": "[encoded data removed]",
      "text/plain": [
       "<Figure size 864x576 with 1 Axes>"
      ]
     },
     "metadata": {
      "needs_background": "light"
     },
     "output_type": "display_data"
    }
   ],
   "source": [
    "fig, ax = plt.subplots(figsize=(12, 8))\n",
    "kmf.plot()\n",
    "ax.set_xlabel('Time to First Skip')\n",
    "ax.set_title('Time Until First Skip Survival Curve')\n",
    "plt.show();"
   ]
  },
  {
   "cell_type": "code",
   "execution_count": 172,
   "id": "d008ad59",
   "metadata": {},
   "outputs": [
    {
     "data": {
      "image/png": "[encoded data removed]",
      "text/plain": [
       "<Figure size 864x576 with 1 Axes>"
      ]
     },
     "metadata": {
      "needs_background": "light"
     },
     "output_type": "display_data"
    }
   ],
   "source": [
    "observed_skip_df = df[df['observed_first_skip'] == True]\n",
    "\n",
    "\n",
    "fig, ax = plt.subplots(figsize=(12, 8))\n",
    "sns.histplot(observed_skip_df['last_track_num'])\n",
    "ax.set_title('Distribution of Time to First Skip')\n",
    "ax.set_xlabel('Time to first skip')\n",
    "plt.show();"
   ]
  },
  {
   "cell_type": "code",
   "execution_count": 97,
   "id": "d26c1181",
   "metadata": {},
   "outputs": [
    {
     "name": "stdout",
     "output_type": "stream",
     "text": [
      "Average time to first skip: 3.975\n"
     ]
    }
   ],
   "source": [
    "print(f'Average time to first skip: {round(observed_skip_df[\"last_track_num\"].mean(), 3)}')\n",
    "\n"
   ]
  },
  {
   "cell_type": "code",
   "execution_count": 61,
   "id": "b8eba1c0-5ef0-40eb-9cbd-18df57607747",
   "metadata": {
    "id": "b8eba1c0-5ef0-40eb-9cbd-18df57607747"
   },
   "outputs": [
    {
     "name": "stdout",
     "output_type": "stream",
     "text": [
      "3.975\n"
     ]
    }
   ],
   "source": [
    "# implement session metric 1: time to first skip (number of songs to first skip)\n",
    "\n",
    "time_to_first_skip =  get_time_to_first_skip(log)\n",
    "print(round(time_to_first_skip['session_position'].mean(), 3))\n",
    "\n"
   ]
  },
  {
   "cell_type": "markdown",
   "id": "b6887211",
   "metadata": {},
   "source": [
    "### implement session metric 2: sustained dissatisfaction: proportions of sessions with 3 consecutive skips\n"
   ]
  },
  {
   "cell_type": "code",
   "execution_count": 167,
   "id": "2aa60d49",
   "metadata": {},
   "outputs": [],
   "source": [
    "def get_sustained_dissatisfaction(df, k):\n",
    "    sub_df = df\n",
    "    if k:\n",
    "        sub_df = df.groupby('session_id').apply(lambda x: x.nsmallest(k,['session_position'])).reset_index(drop = True)\n",
    "    \n",
    "    sub_df['lag_skip_1'] = sub_df.groupby('session_id')['skip_1'].shift(-1)\n",
    "    sub_df['lead_skip_1'] = sub_df.groupby('session_id')['skip_1'].shift(1)\n",
    "\n",
    "    sustained_dissatisfaction_users = sub_df[(sub_df['skip_1'] == 1) &\n",
    "                                         (sub_df['lag_skip_1'] == 1) &\n",
    "                                         (sub_df['lead_skip_1'] == 1)]\n",
    "\n",
    "    return sustained_dissatisfaction_users['session_id'].nunique() / sub_df['session_id'].nunique()\n",
    "\n",
    "    \n",
    "        "
   ]
  },
  {
   "cell_type": "code",
   "execution_count": 169,
   "id": "9a5a41e6",
   "metadata": {},
   "outputs": [
    {
     "name": "stdout",
     "output_type": "stream",
     "text": [
      "Sustained Dissatisfaction: 0.654\n"
     ]
    }
   ],
   "source": [
    "sustained_dissatisfaction = get_sustained_dissatisfaction(log, k=None)\n",
    "print(f'Sustained Dissatisfaction: {round(sustained_dissatisfaction, 3)}')"
   ]
  },
  {
   "cell_type": "markdown",
   "id": "73a58ccb",
   "metadata": {},
   "source": [
    "### implement session metric 3: session coherence: average similarity between the top recommended tracks\n"
   ]
  },
  {
   "cell_type": "code",
   "execution_count": 149,
   "id": "b82ad926",
   "metadata": {},
   "outputs": [],
   "source": [
    "acoustic_vector_cols = [f'acoustic_vector_{i}' for i in range(8)]\n",
    "simple_tracks_df = tracks[['track_id'] + acoustic_vector_cols]\n",
    "\n",
    "joined_df = pd.merge(log, simple_tracks_df, \n",
    "                     left_on='track_id_clean',\n",
    "                     right_on='track_id',\n",
    "                     how='left')\n",
    "\n",
    "\n"
   ]
  },
  {
   "cell_type": "markdown",
   "id": "26c7ffa6-2c35-45c0-9d6d-78ab11f30632",
   "metadata": {
    "id": "26c7ffa6-2c35-45c0-9d6d-78ab11f30632"
   },
   "source": [
    "Once these metrics are implemented, compute these metrics for topk=5 and topk=10 compare their estimates for the production ranker as a correlation plot. Please note which metrics are correlated with ndcg metric.\n",
    "\n",
    "**Additional goal:**\n",
    "Implement another simple ranking logic, and compare the performance of both the production ranker and new ranking policy on the ndcg and three behavioral metrics.\n",
    "A simple ranking policy could include sortby track popularity, or sort by danceability score for the track.\n",
    "\n",
    "Please report the performance of these rankers on all four metrics."
   ]
  },
  {
   "cell_type": "code",
   "execution_count": 201,
   "id": "e6de4798",
   "metadata": {},
   "outputs": [],
   "source": [
    "def get_session_coherence(df, k):\n",
    "    sub_df = df\n",
    "    if k:\n",
    "        sub_df = df.groupby('session_id').apply(lambda x: x.nsmallest(k,['session_position'])).reset_index(drop = True)\n",
    "        \n",
    "    sub_df['acoustic_vector_joined'] = sub_df.apply(lambda x: np.array([x[f'acoustic_vector_{i + 1}'] for i in range(7)]),\n",
    "                                                     axis=1)\n",
    "    \n",
    "    # From: https://stackoverflow.com/a/65908593\n",
    "    return sub_df.groupby('session_id')['acoustic_vector_joined'].transform(\n",
    "        lambda group: pdist(group.to_list(), metric=\"cosine\").mean()).mean()\n",
    "\n",
    "\n",
    "\n",
    "    "
   ]
  },
  {
   "cell_type": "code",
   "execution_count": 202,
   "id": "bd54a905",
   "metadata": {},
   "outputs": [
    {
     "name": "stdout",
     "output_type": "stream",
     "text": [
      "Session Coherence Score (K=10): 0.198\n"
     ]
    }
   ],
   "source": [
    "k = 10\n",
    "session_coherence_score = get_session_coherence(joined_df, k)\n",
    "\n",
    "print(f'Session Coherence Score (K={k}): {round(session_coherence_score, 3)}')\n",
    "\n"
   ]
  },
  {
   "cell_type": "code",
   "execution_count": 221,
   "id": "8dbef062",
   "metadata": {},
   "outputs": [],
   "source": [
    "k_list = [3, 5, 10, 15]\n",
    "score_lists = []\n",
    "\n",
    "for k in k_list:\n",
    "    k_dict = {'k': k}\n",
    "    k_dict['ndcg'] = get_ndcg_k(log, k)\n",
    "    k_dict['time_first_skip'] = get_time_to_first_skip_first_k(log, k)\n",
    "    k_dict['sustained_dissatisfaction'] = get_sustained_dissatisfaction(log, k)\n",
    "\n",
    "    k_dict['session_coherence'] = get_session_coherence(joined_df, k)\n",
    "    score_lists.append(k_dict)\n",
    "    \n",
    "    "
   ]
  },
  {
   "cell_type": "code",
   "execution_count": 222,
   "id": "d2682c48",
   "metadata": {},
   "outputs": [
    {
     "data": {
      "text/html": [
       "<div>\n",
       "<style scoped>\n",
       "    .dataframe tbody tr th:only-of-type {\n",
       "        vertical-align: middle;\n",
       "    }\n",
       "\n",
       "    .dataframe tbody tr th {\n",
       "        vertical-align: top;\n",
       "    }\n",
       "\n",
       "    .dataframe thead th {\n",
       "        text-align: right;\n",
       "    }\n",
       "</style>\n",
       "<table border=\"1\" class=\"dataframe\">\n",
       "  <thead>\n",
       "    <tr style=\"text-align: right;\">\n",
       "      <th></th>\n",
       "      <th>k</th>\n",
       "      <th>ndcg</th>\n",
       "      <th>time_first_skip</th>\n",
       "      <th>sustained_dissatisfaction</th>\n",
       "      <th>session_coherence</th>\n",
       "    </tr>\n",
       "  </thead>\n",
       "  <tbody>\n",
       "    <tr>\n",
       "      <th>k</th>\n",
       "      <td>1.000000</td>\n",
       "      <td>0.865968</td>\n",
       "      <td>0.961075</td>\n",
       "      <td>0.968118</td>\n",
       "      <td>0.997560</td>\n",
       "    </tr>\n",
       "    <tr>\n",
       "      <th>ndcg</th>\n",
       "      <td>0.865968</td>\n",
       "      <td>1.000000</td>\n",
       "      <td>0.966990</td>\n",
       "      <td>0.958718</td>\n",
       "      <td>0.862972</td>\n",
       "    </tr>\n",
       "    <tr>\n",
       "      <th>time_first_skip</th>\n",
       "      <td>0.961075</td>\n",
       "      <td>0.966990</td>\n",
       "      <td>1.000000</td>\n",
       "      <td>0.999529</td>\n",
       "      <td>0.962531</td>\n",
       "    </tr>\n",
       "    <tr>\n",
       "      <th>sustained_dissatisfaction</th>\n",
       "      <td>0.968118</td>\n",
       "      <td>0.958718</td>\n",
       "      <td>0.999529</td>\n",
       "      <td>1.000000</td>\n",
       "      <td>0.970179</td>\n",
       "    </tr>\n",
       "    <tr>\n",
       "      <th>session_coherence</th>\n",
       "      <td>0.997560</td>\n",
       "      <td>0.862972</td>\n",
       "      <td>0.962531</td>\n",
       "      <td>0.970179</td>\n",
       "      <td>1.000000</td>\n",
       "    </tr>\n",
       "  </tbody>\n",
       "</table>\n",
       "</div>"
      ],
      "text/plain": [
       "                                  k      ndcg  time_first_skip  \\\n",
       "k                          1.000000  0.865968         0.961075   \n",
       "ndcg                       0.865968  1.000000         0.966990   \n",
       "time_first_skip            0.961075  0.966990         1.000000   \n",
       "sustained_dissatisfaction  0.968118  0.958718         0.999529   \n",
       "session_coherence          0.997560  0.862972         0.962531   \n",
       "\n",
       "                           sustained_dissatisfaction  session_coherence  \n",
       "k                                           0.968118           0.997560  \n",
       "ndcg                                        0.958718           0.862972  \n",
       "time_first_skip                             0.999529           0.962531  \n",
       "sustained_dissatisfaction                   1.000000           0.970179  \n",
       "session_coherence                           0.970179           1.000000  "
      ]
     },
     "execution_count": 222,
     "metadata": {},
     "output_type": "execute_result"
    }
   ],
   "source": [
    "pd.DataFrame(score_lists).corr()"
   ]
  },
  {
   "cell_type": "code",
   "execution_count": 224,
   "id": "b67942be",
   "metadata": {},
   "outputs": [
    {
     "data": {
      "image/png": "[encoded data removed]",
      "text/plain": [
       "<Figure size 432x288 with 2 Axes>"
      ]
     },
     "metadata": {
      "needs_background": "light"
     },
     "output_type": "display_data"
    }
   ],
   "source": [
    "corr_matrix_vals = pd.DataFrame(score_lists).corr().iloc[1:, 1:]\n",
    "sns.heatmap(corr_matrix_vals,\n",
    "           xticklabels=corr_matrix_vals.columns.values,\n",
    "           yticklabels=corr_matrix_vals.columns.values,\n",
    "           cmap=sns.diverging_palette(220, 10, as_cmap=True)\n",
    "           )\n",
    "plt.show();"
   ]
  },
  {
   "cell_type": "markdown",
   "id": "b7e4812d-3b39-4def-a293-7da0297f32a1",
   "metadata": {
    "id": "b7e4812d-3b39-4def-a293-7da0297f32a1"
   },
   "source": [
    "# Part B: Off Policy Evaluation\n",
    "\n",
    "We log listener behavior based on the recommendations that the production recommender serves to the listener. Using this data to assess any new recommender system, however, can present challenges – the production recommender and the new recommender can drastically differ in the results that they display to the user. For example, maybe the new recommender presents a lot of niche content, while the production recommender presents a lot of popular options. This can be an issue when evaluating a new recommender – If you don’t have any feedback on a recommendation because you never presented it to a user, how can you evaluate whether it’s a good recommendation?\n",
    "If you have a new policy to test that’s very similar to your old approach, then this won’t be an issue, and it’ll be easy to test! However, if the policy is very different, then you’ll need to collect special logged data.\n",
    "\n",
    "In this part of the project, we will simulate a recommendation policy and leverage counterfactual estimators as metrics to compare performance.\n"
   ]
  },
  {
   "cell_type": "markdown",
   "id": "16ddd6a0-4481-4221-a36d-577276d8b728",
   "metadata": {
    "id": "16ddd6a0-4481-4221-a36d-577276d8b728"
   },
   "source": [
    "Lets first begin by generating a few users and products. For ease of simulation, we assume users derive equal satisfaction from each item."
   ]
  },
  {
   "cell_type": "code",
   "execution_count": 125,
   "id": "539cfda5-98eb-415c-a98b-ccb9acc22031",
   "metadata": {
    "id": "539cfda5-98eb-415c-a98b-ccb9acc22031"
   },
   "outputs": [],
   "source": [
    "\n",
    "users = np.array([\"user1\", \"user2\", \"user3\"])\n",
    "products = np.array(\n",
    "    [\n",
    "        \"product_a\",\n",
    "        \"product_b\",\n",
    "        \"product_c\",\n",
    "        \"product_d\",\n",
    "        \"product_e\",\n",
    "        \"product_f\",\n",
    "        \"product_g\",\n",
    "    ]\n",
    ")\n",
    "\n",
    "satisfaction = {\n",
    "    \"product_a\": 100,\n",
    "    \"product_b\": 150,\n",
    "    \"product_c\": 100,\n",
    "    \"product_d\": 200,\n",
    "    \"product_e\": 500,\n",
    "    \"product_f\": 120,\n",
    "    \"product_g\": 160,\n",
    "}\n",
    "\n"
   ]
  },
  {
   "cell_type": "markdown",
   "id": "1a77fd2c-7586-4ea5-9e28-67d6f3050bab",
   "metadata": {
    "id": "1a77fd2c-7586-4ea5-9e28-67d6f3050bab"
   },
   "source": [
    "Lets also implement whether a given user will accept a given recommendation or not. Once done, we can implement a target policy that makes recommendations."
   ]
  },
  {
   "cell_type": "code",
   "execution_count": 126,
   "id": "fd59b6ef-5d27-47b5-8b39-8adfd8eae51d",
   "metadata": {
    "id": "fd59b6ef-5d27-47b5-8b39-8adfd8eae51d"
   },
   "outputs": [],
   "source": [
    "\n",
    "def will_purchase(user, product):\n",
    "    if user == \"user1\" and (\n",
    "        product == \"product_a\" or product == \"product_b\" or product == \"product_c\"\n",
    "    ):\n",
    "        return True\n",
    "    elif user == \"user2\" and (product == \"product_d\" or product == \"product_e\"):\n",
    "        return True\n",
    "    elif user == \"user3\" and (product == \"product_f\" or product == \"product_g\"):\n",
    "        return True\n",
    "    else:\n",
    "        return False\n",
    "\n",
    "\n",
    "def choose_user():\n",
    "    return np.random.choice(users, size=1)\n",
    "\n",
    "\n",
    "def logging_policy():\n",
    "    return np.random.choice(products, size=1), 1 / len(products)\n",
    "\n",
    "\n",
    "class TargetPolicy:\n",
    "    def __init__(self):\n",
    "        self.user_probs = {\n",
    "            \"user1\": np.array([0.1, 0.1, 0.2, 0.1, 0.15, 0.15, 0.20]),\n",
    "            \"user2\": np.array([0.1, 0.10, 0.05, 0.25, 0.3, 0.1, 0.1]),\n",
    "            \"user3\": np.array([0.06, 0.06, 0.3, 0.06, 0.06, 0.4, 0.06]),\n",
    "        }\n",
    "\n",
    "        for user, probs in self.user_probs.items():\n",
    "            assert probs.sum() == 1\n",
    "            assert len(probs) == len(products)\n",
    "\n",
    "    def recommend(self, user):\n",
    "        user_prob = self.user_probs[user]\n",
    "        product = np.random.choice(products, size=1, p=user_prob)\n",
    "        product_idx = np.where(products == product)\n",
    "        prob = user_prob[product_idx]\n",
    "\n",
    "        return product, prob\n",
    "\n",
    "    def get_prob(self, user, product):\n",
    "        user_prob = self.user_probs[user]\n",
    "        product_idx = np.where(products == product)\n",
    "        product_prob = user_prob[product_idx]\n",
    "\n",
    "        return product_prob\n",
    "\n"
   ]
  },
  {
   "cell_type": "markdown",
   "id": "b0d1d10d-a993-42fb-a26c-106a46001719",
   "metadata": {
    "id": "b0d1d10d-a993-42fb-a26c-106a46001719"
   },
   "source": [
    "Having defined all key components of the dataset generation, lets create logged data that we can finally use for evaluation purposes:"
   ]
  },
  {
   "cell_type": "code",
   "execution_count": 127,
   "id": "e78f2bd2-5ad1-4b9e-87b5-abad2b3098a2",
   "metadata": {
    "id": "e78f2bd2-5ad1-4b9e-87b5-abad2b3098a2"
   },
   "outputs": [],
   "source": [
    "def compute_satisfaction(user, product):\n",
    "    if will_purchase(user, product):\n",
    "        return satisfaction[product.item()]\n",
    "    else:\n",
    "        return 0\n",
    "\n",
    "\n",
    "def create_logs(n=1000):\n",
    "    logs = []\n",
    "    target_policy = TargetPolicy()\n",
    "\n",
    "    for _ in range(n):\n",
    "        user = choose_user()\n",
    "\n",
    "        logging_product, logging_prob = logging_policy()\n",
    "        model_prob = target_policy.get_prob(user.item(), logging_product)\n",
    "\n",
    "        target_product, _ = target_policy.recommend(user.item())\n",
    "\n",
    "        logging_satisfaction = compute_satisfaction(user, logging_product)\n",
    "        target_satisfaction = compute_satisfaction(user, target_product)\n",
    "\n",
    "        log = OrderedDict(\n",
    "            {\n",
    "                \"user_features\": user.item(),\n",
    "                \"item_placed\": logging_product.item(),\n",
    "                \"item_prob\": logging_prob,\n",
    "                \"item_satisfaction\": logging_satisfaction,\n",
    "                \"model_prob\": model_prob.item(),\n",
    "                \"ab_test_satisfaction\": target_satisfaction,\n",
    "            }\n",
    "        )\n",
    "\n",
    "        logs.append(log)\n",
    "\n",
    "    return pd.DataFrame(logs)"
   ]
  },
  {
   "cell_type": "markdown",
   "id": "bf3731a5-75ba-4522-889a-a3bdba5d46dc",
   "metadata": {
    "id": "bf3731a5-75ba-4522-889a-a3bdba5d46dc"
   },
   "source": [
    "Here is what ur logged data now looks like:"
   ]
  },
  {
   "cell_type": "code",
   "execution_count": 129,
   "id": "4ff18b51-9484-4e15-9f73-c8950343fac9",
   "metadata": {
    "id": "4ff18b51-9484-4e15-9f73-c8950343fac9",
    "outputId": "1813cd90-8458-484a-8459-c9a20f4d5570"
   },
   "outputs": [
    {
     "data": {
      "text/html": [
       "<div>\n",
       "<style scoped>\n",
       "    .dataframe tbody tr th:only-of-type {\n",
       "        vertical-align: middle;\n",
       "    }\n",
       "\n",
       "    .dataframe tbody tr th {\n",
       "        vertical-align: top;\n",
       "    }\n",
       "\n",
       "    .dataframe thead th {\n",
       "        text-align: right;\n",
       "    }\n",
       "</style>\n",
       "<table border=\"1\" class=\"dataframe\">\n",
       "  <thead>\n",
       "    <tr style=\"text-align: right;\">\n",
       "      <th></th>\n",
       "      <th>user_features</th>\n",
       "      <th>item_placed</th>\n",
       "      <th>item_prob</th>\n",
       "      <th>item_satisfaction</th>\n",
       "      <th>model_prob</th>\n",
       "      <th>ab_test_satisfaction</th>\n",
       "    </tr>\n",
       "  </thead>\n",
       "  <tbody>\n",
       "    <tr>\n",
       "      <th>0</th>\n",
       "      <td>user2</td>\n",
       "      <td>product_c</td>\n",
       "      <td>0.142857</td>\n",
       "      <td>0</td>\n",
       "      <td>0.05</td>\n",
       "      <td>0</td>\n",
       "    </tr>\n",
       "    <tr>\n",
       "      <th>1</th>\n",
       "      <td>user2</td>\n",
       "      <td>product_c</td>\n",
       "      <td>0.142857</td>\n",
       "      <td>0</td>\n",
       "      <td>0.05</td>\n",
       "      <td>200</td>\n",
       "    </tr>\n",
       "    <tr>\n",
       "      <th>2</th>\n",
       "      <td>user1</td>\n",
       "      <td>product_b</td>\n",
       "      <td>0.142857</td>\n",
       "      <td>150</td>\n",
       "      <td>0.10</td>\n",
       "      <td>0</td>\n",
       "    </tr>\n",
       "    <tr>\n",
       "      <th>3</th>\n",
       "      <td>user3</td>\n",
       "      <td>product_e</td>\n",
       "      <td>0.142857</td>\n",
       "      <td>0</td>\n",
       "      <td>0.06</td>\n",
       "      <td>0</td>\n",
       "    </tr>\n",
       "    <tr>\n",
       "      <th>4</th>\n",
       "      <td>user2</td>\n",
       "      <td>product_a</td>\n",
       "      <td>0.142857</td>\n",
       "      <td>0</td>\n",
       "      <td>0.10</td>\n",
       "      <td>0</td>\n",
       "    </tr>\n",
       "  </tbody>\n",
       "</table>\n",
       "</div>"
      ],
      "text/plain": [
       "  user_features item_placed  item_prob  item_satisfaction  model_prob  \\\n",
       "0         user2   product_c   0.142857                  0        0.05   \n",
       "1         user2   product_c   0.142857                  0        0.05   \n",
       "2         user1   product_b   0.142857                150        0.10   \n",
       "3         user3   product_e   0.142857                  0        0.06   \n",
       "4         user2   product_a   0.142857                  0        0.10   \n",
       "\n",
       "   ab_test_satisfaction  \n",
       "0                     0  \n",
       "1                   200  \n",
       "2                     0  \n",
       "3                     0  \n",
       "4                     0  "
      ]
     },
     "execution_count": 129,
     "metadata": {},
     "output_type": "execute_result"
    }
   ],
   "source": [
    "logs = create_logs(n=1000)\n",
    "logs.head(5)"
   ]
  },
  {
   "cell_type": "code",
   "execution_count": 130,
   "id": "6030ee25-943c-4c1e-8031-f780506830f5",
   "metadata": {
    "id": "6030ee25-943c-4c1e-8031-f780506830f5",
    "outputId": "590e36ff-d2bf-49ff-87ae-5038a6b9fbc0"
   },
   "outputs": [
    {
     "data": {
      "text/html": [
       "<div>\n",
       "<style scoped>\n",
       "    .dataframe tbody tr th:only-of-type {\n",
       "        vertical-align: middle;\n",
       "    }\n",
       "\n",
       "    .dataframe tbody tr th {\n",
       "        vertical-align: top;\n",
       "    }\n",
       "\n",
       "    .dataframe thead th {\n",
       "        text-align: right;\n",
       "    }\n",
       "</style>\n",
       "<table border=\"1\" class=\"dataframe\">\n",
       "  <thead>\n",
       "    <tr style=\"text-align: right;\">\n",
       "      <th></th>\n",
       "      <th>user_features</th>\n",
       "      <th>item_placed</th>\n",
       "      <th>item_prob</th>\n",
       "      <th>item_satisfaction</th>\n",
       "    </tr>\n",
       "  </thead>\n",
       "  <tbody>\n",
       "    <tr>\n",
       "      <th>552</th>\n",
       "      <td>user3</td>\n",
       "      <td>product_d</td>\n",
       "      <td>0.142857</td>\n",
       "      <td>0</td>\n",
       "    </tr>\n",
       "    <tr>\n",
       "      <th>497</th>\n",
       "      <td>user2</td>\n",
       "      <td>product_g</td>\n",
       "      <td>0.142857</td>\n",
       "      <td>0</td>\n",
       "    </tr>\n",
       "    <tr>\n",
       "      <th>187</th>\n",
       "      <td>user3</td>\n",
       "      <td>product_d</td>\n",
       "      <td>0.142857</td>\n",
       "      <td>0</td>\n",
       "    </tr>\n",
       "    <tr>\n",
       "      <th>293</th>\n",
       "      <td>user2</td>\n",
       "      <td>product_d</td>\n",
       "      <td>0.142857</td>\n",
       "      <td>200</td>\n",
       "    </tr>\n",
       "    <tr>\n",
       "      <th>583</th>\n",
       "      <td>user2</td>\n",
       "      <td>product_g</td>\n",
       "      <td>0.142857</td>\n",
       "      <td>0</td>\n",
       "    </tr>\n",
       "    <tr>\n",
       "      <th>914</th>\n",
       "      <td>user3</td>\n",
       "      <td>product_g</td>\n",
       "      <td>0.142857</td>\n",
       "      <td>160</td>\n",
       "    </tr>\n",
       "    <tr>\n",
       "      <th>197</th>\n",
       "      <td>user3</td>\n",
       "      <td>product_a</td>\n",
       "      <td>0.142857</td>\n",
       "      <td>0</td>\n",
       "    </tr>\n",
       "    <tr>\n",
       "      <th>831</th>\n",
       "      <td>user2</td>\n",
       "      <td>product_c</td>\n",
       "      <td>0.142857</td>\n",
       "      <td>0</td>\n",
       "    </tr>\n",
       "    <tr>\n",
       "      <th>469</th>\n",
       "      <td>user1</td>\n",
       "      <td>product_d</td>\n",
       "      <td>0.142857</td>\n",
       "      <td>0</td>\n",
       "    </tr>\n",
       "    <tr>\n",
       "      <th>680</th>\n",
       "      <td>user2</td>\n",
       "      <td>product_a</td>\n",
       "      <td>0.142857</td>\n",
       "      <td>0</td>\n",
       "    </tr>\n",
       "  </tbody>\n",
       "</table>\n",
       "</div>"
      ],
      "text/plain": [
       "    user_features item_placed  item_prob  item_satisfaction\n",
       "552         user3   product_d   0.142857                  0\n",
       "497         user2   product_g   0.142857                  0\n",
       "187         user3   product_d   0.142857                  0\n",
       "293         user2   product_d   0.142857                200\n",
       "583         user2   product_g   0.142857                  0\n",
       "914         user3   product_g   0.142857                160\n",
       "197         user3   product_a   0.142857                  0\n",
       "831         user2   product_c   0.142857                  0\n",
       "469         user1   product_d   0.142857                  0\n",
       "680         user2   product_a   0.142857                  0"
      ]
     },
     "execution_count": 130,
     "metadata": {},
     "output_type": "execute_result"
    }
   ],
   "source": [
    "logs[[\"user_features\", \"item_placed\", \"item_prob\", \"item_satisfaction\"]].sample(n=10)"
   ]
  },
  {
   "cell_type": "markdown",
   "id": "cc6a4c42-467f-4dfd-8e75-3d58a9c77781",
   "metadata": {
    "id": "cc6a4c42-467f-4dfd-8e75-3d58a9c77781"
   },
   "source": [
    "With all the dataset ready, lets compute the mean rewards (satisfaction) for the logging/production policy and the target policy:"
   ]
  },
  {
   "cell_type": "code",
   "execution_count": 131,
   "id": "082465c7-b149-40ac-aa40-a44116d2a7bf",
   "metadata": {
    "id": "082465c7-b149-40ac-aa40-a44116d2a7bf",
    "outputId": "d658ccda-3160-4281-a54e-ddca18bcbdcd"
   },
   "outputs": [
    {
     "name": "stdout",
     "output_type": "stream",
     "text": [
      "Expected reward from logging policy:  63.01\n",
      "Expected reward from target policy:  100.64\n",
      "CPU times: user 8.25 s, sys: 110 ms, total: 8.36 s\n",
      "Wall time: 8.39 s\n"
     ]
    }
   ],
   "source": [
    "%%time\n",
    "sim = create_logs(n=100000)\n",
    "logging_policy = sim[\"item_satisfaction\"].mean()\n",
    "target_policy = sim[\"ab_test_satisfaction\"].mean()\n",
    "\n",
    "print(f\"Expected reward from logging policy: {logging_policy: .2f}\")\n",
    "print(f\"Expected reward from target policy: {target_policy: .2f}\")"
   ]
  },
  {
   "cell_type": "markdown",
   "id": "37a954a7-a0ea-4bec-9d60-3ec0ea549f40",
   "metadata": {
    "id": "37a954a7-a0ea-4bec-9d60-3ec0ea549f40"
   },
   "source": [
    "Now lets implement the IPS estimator:"
   ]
  },
  {
   "cell_type": "code",
   "execution_count": 134,
   "id": "14d1c5dc-8954-4ff6-9b96-7a49076d062a",
   "metadata": {
    "id": "14d1c5dc-8954-4ff6-9b96-7a49076d062a"
   },
   "outputs": [],
   "source": [
    "def compute_ips(df):\n",
    "    assert {\"model_prob\", \"item_prob\", \"item_satisfaction\"}.issubset(df.columns)\n",
    "    return ((df[\"model_prob\"] / df[\"item_prob\"] )* df[\"item_satisfaction\"]).mean()\n",
    "\n"
   ]
  },
  {
   "cell_type": "code",
   "execution_count": 153,
   "id": "f574b73d-38b7-4504-addc-47fd23839d40",
   "metadata": {
    "id": "f574b73d-38b7-4504-addc-47fd23839d40",
    "outputId": "52fd5e7d-d4b6-4a76-821e-3f89eedfe48d"
   },
   "outputs": [
    {
     "name": "stdout",
     "output_type": "stream",
     "text": [
      "IPS: 91.144\n"
     ]
    }
   ],
   "source": [
    "ips_est = compute_ips(logs)\n",
    "\n",
    "print(f'IPS: {round(ips_est, 3)}')"
   ]
  },
  {
   "cell_type": "markdown",
   "id": "8d2a93e4-0e1d-45e1-846f-d7fd73bfb9de",
   "metadata": {
    "id": "8d2a93e4-0e1d-45e1-846f-d7fd73bfb9de"
   },
   "source": [
    "Computing the IPS estimator on our 1,000 entry log gives an average revenue of 109.34 (very close to the true performance of 100.99) compared with the average revenue of the logging policy of 63.36. Therefore, we should be confident to deploy our target policy to production and do an AB test comparing it with the logging policy as a final validation."
   ]
  },
  {
   "cell_type": "markdown",
   "id": "ce6d30c6-7684-47d6-a65c-523138f5ee5a",
   "metadata": {
    "id": "ce6d30c6-7684-47d6-a65c-523138f5ee5a"
   },
   "source": [
    "## Goals for this part of project:\n",
    "\n",
    "Finish the implementation of two additional off-policy estimators:\n",
    "1. Capped IPS\n",
    "2. Normalized Capped Importance Sampling (NCIS)\n",
    "\n",
    "Feel free to try different capping thresholds, and compare the reward and standard deviations of these estimators with the IPS estimator and mean reward.\n"
   ]
  },
  {
   "cell_type": "code",
   "execution_count": 142,
   "id": "5ec2fbc1-4b2d-4984-bc83-34d47cb067b4",
   "metadata": {
    "id": "5ec2fbc1-4b2d-4984-bc83-34d47cb067b4"
   },
   "outputs": [],
   "source": [
    "def compute_capped_ips(logs, cap=1000):\n",
    "    ips = ((logs['model_prob'] / logs['item_prob']) * logs['item_satisfaction'])\n",
    "    return ips.apply(lambda x: min(x, cap)).mean()\n",
    "\n",
    "\n",
    "\n"
   ]
  },
  {
   "cell_type": "code",
   "execution_count": 151,
   "id": "53975226",
   "metadata": {},
   "outputs": [
    {
     "name": "stdout",
     "output_type": "stream",
     "text": [
      "Capped IPS: 89.244\n"
     ]
    }
   ],
   "source": [
    "capped_ips = compute_capped_ips(logs)\n",
    "\n",
    "print(f'Capped IPS: {round(capped_ips, 3)}')"
   ]
  },
  {
   "cell_type": "code",
   "execution_count": 145,
   "id": "e4b03cee-1438-4f1f-a170-4b535979b231",
   "metadata": {
    "id": "e4b03cee-1438-4f1f-a170-4b535979b231"
   },
   "outputs": [],
   "source": [
    "def compute_ncis(logs, cap=1000):\n",
    "    denom = (logs['model_prob'] / logs['item_prob']).apply(lambda x: min(x, cap)).mean()\n",
    "\n",
    "    return compute_capped_ips(logs, cap) / denom\n",
    "\n"
   ]
  },
  {
   "cell_type": "code",
   "execution_count": 152,
   "id": "d64e821b",
   "metadata": {},
   "outputs": [
    {
     "name": "stdout",
     "output_type": "stream",
     "text": [
      "NCIS: 89.244\n"
     ]
    }
   ],
   "source": [
    "ncis = compute_capped_ips(logs)\n",
    "\n",
    "print(f'NCIS: {round(ncis, 3)}')"
   ]
  },
  {
   "cell_type": "code",
   "execution_count": null,
   "id": "1a72b6c3",
   "metadata": {},
   "outputs": [],
   "source": []
  }
 ],
 "metadata": {
  "colab": {
   "include_colab_link": true,
   "name": "week4-evaluation.ipynb",
   "provenance": []
  },
  "environment": {
   "kernel": "python3",
   "name": "tf2-gpu.2-6.m89",
   "type": "gcloud",
   "uri": "gcr.io/deeplearning-platform-release/tf2-gpu.2-6:m89"
  },
  "kernelspec": {
   "display_name": "Python 3",
   "language": "python",
   "name": "python3"
  },
  "language_info": {
   "codemirror_mode": {
    "name": "ipython",
    "version": 3
   },
   "file_extension": ".py",
   "mimetype": "text/x-python",
   "name": "python",
   "nbconvert_exporter": "python",
   "pygments_lexer": "ipython3",
   "version": "3.8.8"
  }
 },
 "nbformat": 4,
 "nbformat_minor": 5
}
